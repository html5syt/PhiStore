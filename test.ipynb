{
 "cells": [
  {
   "cell_type": "code",
   "execution_count": 4,
   "metadata": {},
   "outputs": [
    {
     "data": {
      "text/plain": [
       "<coroutine object app_async at 0x0000016D3098F300>"
      ]
     },
     "execution_count": 4,
     "metadata": {},
     "output_type": "execute_result"
    }
   ],
   "source": [
    "import flet as ft\n",
    "import time\n",
    "import asyncio\n",
    "\n",
    "def main(page: ft.Page):\n",
    "\n",
    "    def handler(e):\n",
    "        time.sleep(3)\n",
    "        page.add(ft.Text(\"Handler clicked\"))\n",
    "\n",
    "    async def handler_async(e):\n",
    "        await asyncio.sleep(3)\n",
    "        page.add(ft.Text(\"Async handler clicked\"))\n",
    "\n",
    "    page.add(\n",
    "        ft.ElevatedButton(\"Call handler\", on_click=handler),\n",
    "        ft.ElevatedButton(\"Call async handler\", on_click=handler_async)\n",
    "    )\n",
    "\n",
    "ft.app_async(main)\n"
   ]
  },
  {
   "cell_type": "code",
   "execution_count": 1,
   "metadata": {},
   "outputs": [
    {
     "ename": "RuntimeError",
     "evalue": "asyncio.run() cannot be called from a running event loop",
     "output_type": "error",
     "traceback": [
      "\u001b[1;31m---------------------------------------------------------------------------\u001b[0m",
      "\u001b[1;31mRuntimeError\u001b[0m                              Traceback (most recent call last)",
      "Cell \u001b[1;32mIn[1], line 39\u001b[0m\n\u001b[0;32m     32\u001b[0m     page\u001b[38;5;241m.\u001b[39mspacing \u001b[38;5;241m=\u001b[39m \u001b[38;5;241m30\u001b[39m\n\u001b[0;32m     33\u001b[0m     page\u001b[38;5;241m.\u001b[39madd(\n\u001b[0;32m     34\u001b[0m         c,\n\u001b[0;32m     35\u001b[0m         ft\u001b[38;5;241m.\u001b[39mElevatedButton(\u001b[38;5;124m\"\u001b[39m\u001b[38;5;124mAnimate!\u001b[39m\u001b[38;5;124m\"\u001b[39m, on_click\u001b[38;5;241m=\u001b[39manimate),\n\u001b[0;32m     36\u001b[0m     )\n\u001b[1;32m---> 39\u001b[0m \u001b[43mft\u001b[49m\u001b[38;5;241;43m.\u001b[39;49m\u001b[43mapp\u001b[49m\u001b[43m(\u001b[49m\u001b[43mtarget\u001b[49m\u001b[38;5;241;43m=\u001b[39;49m\u001b[43mmain\u001b[49m\u001b[43m)\u001b[49m\n",
      "File \u001b[1;32md:\\Projects\\Python-Project\\Flet\\.conda\\Lib\\site-packages\\flet\\app.py:64\u001b[0m, in \u001b[0;36mapp\u001b[1;34m(target, name, host, port, view, assets_dir, upload_dir, web_renderer, use_color_emoji, route_url_strategy, export_asgi_app)\u001b[0m\n\u001b[0;32m     52\u001b[0m     \u001b[38;5;28;01mfrom\u001b[39;00m \u001b[38;5;21;01mflet_web\u001b[39;00m\u001b[38;5;21;01m.\u001b[39;00m\u001b[38;5;21;01mfastapi\u001b[39;00m\u001b[38;5;21;01m.\u001b[39;00m\u001b[38;5;21;01mserve_fastapi_web_app\u001b[39;00m \u001b[38;5;28;01mimport\u001b[39;00m get_fastapi_web_app\n\u001b[0;32m     54\u001b[0m     \u001b[38;5;28;01mreturn\u001b[39;00m get_fastapi_web_app(\n\u001b[0;32m     55\u001b[0m         session_handler\u001b[38;5;241m=\u001b[39mtarget,\n\u001b[0;32m     56\u001b[0m         page_name\u001b[38;5;241m=\u001b[39m__get_page_name(name),\n\u001b[1;32m   (...)\u001b[0m\n\u001b[0;32m     61\u001b[0m         route_url_strategy\u001b[38;5;241m=\u001b[39mroute_url_strategy,\n\u001b[0;32m     62\u001b[0m     )\n\u001b[1;32m---> 64\u001b[0m \u001b[38;5;28;01mreturn\u001b[39;00m \u001b[43masyncio\u001b[49m\u001b[38;5;241;43m.\u001b[39;49m\u001b[43mrun\u001b[49m\u001b[43m(\u001b[49m\n\u001b[0;32m     65\u001b[0m \u001b[43m    \u001b[49m\u001b[43mapp_async\u001b[49m\u001b[43m(\u001b[49m\n\u001b[0;32m     66\u001b[0m \u001b[43m        \u001b[49m\u001b[43mtarget\u001b[49m\u001b[38;5;241;43m=\u001b[39;49m\u001b[43mtarget\u001b[49m\u001b[43m,\u001b[49m\n\u001b[0;32m     67\u001b[0m \u001b[43m        \u001b[49m\u001b[43mname\u001b[49m\u001b[38;5;241;43m=\u001b[39;49m\u001b[43mname\u001b[49m\u001b[43m,\u001b[49m\n\u001b[0;32m     68\u001b[0m \u001b[43m        \u001b[49m\u001b[43mhost\u001b[49m\u001b[38;5;241;43m=\u001b[39;49m\u001b[43mhost\u001b[49m\u001b[43m,\u001b[49m\n\u001b[0;32m     69\u001b[0m \u001b[43m        \u001b[49m\u001b[43mport\u001b[49m\u001b[38;5;241;43m=\u001b[39;49m\u001b[43mport\u001b[49m\u001b[43m,\u001b[49m\n\u001b[0;32m     70\u001b[0m \u001b[43m        \u001b[49m\u001b[43mview\u001b[49m\u001b[38;5;241;43m=\u001b[39;49m\u001b[43mview\u001b[49m\u001b[43m,\u001b[49m\n\u001b[0;32m     71\u001b[0m \u001b[43m        \u001b[49m\u001b[43massets_dir\u001b[49m\u001b[38;5;241;43m=\u001b[39;49m\u001b[43massets_dir\u001b[49m\u001b[43m,\u001b[49m\n\u001b[0;32m     72\u001b[0m \u001b[43m        \u001b[49m\u001b[43mupload_dir\u001b[49m\u001b[38;5;241;43m=\u001b[39;49m\u001b[43mupload_dir\u001b[49m\u001b[43m,\u001b[49m\n\u001b[0;32m     73\u001b[0m \u001b[43m        \u001b[49m\u001b[43mweb_renderer\u001b[49m\u001b[38;5;241;43m=\u001b[39;49m\u001b[43mweb_renderer\u001b[49m\u001b[43m,\u001b[49m\n\u001b[0;32m     74\u001b[0m \u001b[43m        \u001b[49m\u001b[43muse_color_emoji\u001b[49m\u001b[38;5;241;43m=\u001b[39;49m\u001b[43muse_color_emoji\u001b[49m\u001b[43m,\u001b[49m\n\u001b[0;32m     75\u001b[0m \u001b[43m        \u001b[49m\u001b[43mroute_url_strategy\u001b[49m\u001b[38;5;241;43m=\u001b[39;49m\u001b[43mroute_url_strategy\u001b[49m\u001b[43m,\u001b[49m\n\u001b[0;32m     76\u001b[0m \u001b[43m    \u001b[49m\u001b[43m)\u001b[49m\n\u001b[0;32m     77\u001b[0m \u001b[43m\u001b[49m\u001b[43m)\u001b[49m\n",
      "File \u001b[1;32md:\\Projects\\Python-Project\\Flet\\.conda\\Lib\\asyncio\\runners.py:190\u001b[0m, in \u001b[0;36mrun\u001b[1;34m(main, debug, loop_factory)\u001b[0m\n\u001b[0;32m    161\u001b[0m \u001b[38;5;250m\u001b[39m\u001b[38;5;124;03m\"\"\"Execute the coroutine and return the result.\u001b[39;00m\n\u001b[0;32m    162\u001b[0m \n\u001b[0;32m    163\u001b[0m \u001b[38;5;124;03mThis function runs the passed coroutine, taking care of\u001b[39;00m\n\u001b[1;32m   (...)\u001b[0m\n\u001b[0;32m    186\u001b[0m \u001b[38;5;124;03m    asyncio.run(main())\u001b[39;00m\n\u001b[0;32m    187\u001b[0m \u001b[38;5;124;03m\"\"\"\u001b[39;00m\n\u001b[0;32m    188\u001b[0m \u001b[38;5;28;01mif\u001b[39;00m events\u001b[38;5;241m.\u001b[39m_get_running_loop() \u001b[38;5;129;01mis\u001b[39;00m \u001b[38;5;129;01mnot\u001b[39;00m \u001b[38;5;28;01mNone\u001b[39;00m:\n\u001b[0;32m    189\u001b[0m     \u001b[38;5;66;03m# fail fast with short traceback\u001b[39;00m\n\u001b[1;32m--> 190\u001b[0m     \u001b[38;5;28;01mraise\u001b[39;00m \u001b[38;5;167;01mRuntimeError\u001b[39;00m(\n\u001b[0;32m    191\u001b[0m         \u001b[38;5;124m\"\u001b[39m\u001b[38;5;124masyncio.run() cannot be called from a running event loop\u001b[39m\u001b[38;5;124m\"\u001b[39m)\n\u001b[0;32m    193\u001b[0m \u001b[38;5;28;01mwith\u001b[39;00m Runner(debug\u001b[38;5;241m=\u001b[39mdebug, loop_factory\u001b[38;5;241m=\u001b[39mloop_factory) \u001b[38;5;28;01mas\u001b[39;00m runner:\n\u001b[0;32m    194\u001b[0m     \u001b[38;5;28;01mreturn\u001b[39;00m runner\u001b[38;5;241m.\u001b[39mrun(main)\n",
      "\u001b[1;31mRuntimeError\u001b[0m: asyncio.run() cannot be called from a running event loop"
     ]
    }
   ],
   "source": [
    "import flet as ft\n",
    "\n",
    "\n",
    "def main(page: ft.Page):\n",
    "        # layout debug\n",
    "    def on_keyboard(e: ft.KeyboardEvent):\n",
    "        # print(e)\n",
    "        if e.key == \"S\" and e.ctrl and e.shift:\n",
    "            page.show_semantics_debugger = not page.show_semantics_debugger\n",
    "            page.update()\n",
    "\n",
    "    page.on_keyboard_event = on_keyboard\n",
    "\n",
    "    c = ft.Container(\n",
    "        width=100,\n",
    "        height=0,\n",
    "        bgcolor=\"blue\",\n",
    "        border_radius=5,\n",
    "        # scale=ft.transform.Scale(scale=1),\n",
    "        animate=ft.animation.Animation(2000),\n",
    "        animate_rotation=ft.animation.Animation(600, ft.AnimationCurve.BOUNCE_OUT),\n",
    "    )\n",
    "\n",
    "    def animate(e):\n",
    "        # c.rotate = 1\n",
    "        # c.scale = 2\n",
    "        c.height = 200\n",
    "        page.update()\n",
    "\n",
    "    page.vertical_alignment = ft.MainAxisAlignment.CENTER\n",
    "    page.horizontal_alignment = ft.CrossAxisAlignment.CENTER\n",
    "    page.spacing = 30\n",
    "    page.add(\n",
    "        c,\n",
    "        ft.ElevatedButton(\"Animate!\", on_click=animate),\n",
    "    )\n",
    "\n",
    "\n",
    "ft.app(target=main)\n"
   ]
  }
 ],
 "metadata": {
  "kernelspec": {
   "display_name": ".conda",
   "language": "python",
   "name": "python3"
  },
  "language_info": {
   "codemirror_mode": {
    "name": "ipython",
    "version": 3
   },
   "file_extension": ".py",
   "mimetype": "text/x-python",
   "name": "python",
   "nbconvert_exporter": "python",
   "pygments_lexer": "ipython3",
   "version": "3.12.8"
  }
 },
 "nbformat": 4,
 "nbformat_minor": 2
}
